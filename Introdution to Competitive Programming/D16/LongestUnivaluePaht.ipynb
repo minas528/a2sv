{
 "cells": [
  {
   "cell_type": "code",
   "execution_count": 1,
   "metadata": {},
   "outputs": [],
   "source": [
    "# Definition for a binary tree node.\n",
    "class TreeNode:\n",
    "    def __init__(self, x):\n",
    "        self.val = x\n",
    "        self.left = None\n",
    "        self.right = None\n",
    "class Solution:\n",
    "    def longestUnivaluePath(self, root: TreeNode,answer=True) -> int:\n",
    "        if not root:\n",
    "            return 0 if answer else (0,0)\n",
    "        l_length,l_deep=self.longestUnivaluePath(root.left,False)\n",
    "        r_length,r_deep=self.longestUnivaluePath(root.right,False)\n",
    "        if l_deep:\n",
    "            l_deep*=root.val==root.left.val\n",
    "        if r_deep:\n",
    "            r_deep*=root.val==root.right.val\n",
    "        length,deep=max(l_length,r_length,l_deep+r_deep),max(l_deep,r_deep)+1\n",
    "        if answer:\n",
    "            return length\n",
    "        else:\n",
    "            return length,deep"
   ]
  },
  {
   "cell_type": "code",
   "execution_count": 2,
   "metadata": {},
   "outputs": [
    {
     "data": {
      "text/plain": [
       "2"
      ]
     },
     "execution_count": 2,
     "metadata": {},
     "output_type": "execute_result"
    }
   ],
   "source": [
    "node1 = TreeNode(32)\n",
    "node2 = TreeNode(54)\n",
    "node3 = TreeNode(52)\n",
    "node4 = TreeNode(6)\n",
    "node5 = TreeNode(99)\n",
    "\n",
    "node1.left = node4\n",
    "node1.right = node5\n",
    "node5.left = node2\n",
    "node2.left = node3\n",
    "\n",
    "node = TreeNode(5)\n",
    "nodel =TreeNode(4)\n",
    "nodel.left = TreeNode(1)\n",
    "nodel.right = TreeNode(1)\n",
    "node.left = nodel\n",
    "noder =TreeNode(5)\n",
    "noder.right = TreeNode(5)\n",
    "node.right = noder\n",
    "\n",
    "sol = Solution()\n",
    "sol.longestUnivaluePath(node)"
   ]
  },
  {
   "cell_type": "markdown",
   "metadata": {},
   "source": [
    "The above structure tree looks like\n",
    "===========================\n",
    "              5\n",
    "             / \\\n",
    "            4   5\n",
    "           / \\   \\\n",
    "          1   1   5"
   ]
  },
  {
   "cell_type": "code",
   "execution_count": null,
   "metadata": {},
   "outputs": [],
   "source": []
  }
 ],
 "metadata": {
  "kernelspec": {
   "display_name": "Python 3",
   "language": "python",
   "name": "python3"
  },
  "language_info": {
   "codemirror_mode": {
    "name": "ipython",
    "version": 3
   },
   "file_extension": ".py",
   "mimetype": "text/x-python",
   "name": "python",
   "nbconvert_exporter": "python",
   "pygments_lexer": "ipython3",
   "version": "3.7.4"
  }
 },
 "nbformat": 4,
 "nbformat_minor": 2
}
