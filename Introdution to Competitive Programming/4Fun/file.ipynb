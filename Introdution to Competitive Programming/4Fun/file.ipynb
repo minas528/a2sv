{
 "cells": [
  {
   "source": [
    "print(\"Hello world\")\n",
    "\n",
    ""
   ],
   "cell_type": "code",
   "outputs": [
    {
     "output_type": "stream",
     "name": "stdout",
     "text": "Hello world\n"
    }
   ],
   "metadata": {},
   "execution_count": 1
  },
  {
   "source": [
    "import unittest\n",
    "if __name__ == '__main__':\n",
    "    unittest.main()"
   ],
   "cell_type": "code",
   "outputs": [
    {
     "output_type": "stream",
     "name": "stderr",
     "text": "E\n======================================================================\nERROR: C:\\Users\\Minas\\AppData\\Roaming\\jupyter\\runtime\\kernel-1b843f27-ecaf-4a93-bb61-f79b8b62500f (unittest.loader._FailedTest)\n----------------------------------------------------------------------\nAttributeError: module '__main__' has no attribute 'C:\\Users\\Minas\\AppData\\Roaming\\jupyter\\runtime\\kernel-1b843f27-ecaf-4a93-bb61-f79b8b62500f'\n\n----------------------------------------------------------------------\nRan 1 test in 0.004s\n\nFAILED (errors=1)\n"
    },
    {
     "output_type": "error",
     "ename": "SystemExit",
     "evalue": "True",
     "traceback": [
      "An exception has occurred, use %tb to see the full traceback.\n",
      "\u001b[1;31mSystemExit\u001b[0m\u001b[1;31m:\u001b[0m True\n"
     ]
    },
    {
     "output_type": "stream",
     "name": "stderr",
     "text": "c:\\users\\minas\\miniconda3\\lib\\site-packages\\IPython\\core\\interactiveshell.py:3334: UserWarning: To exit: use 'exit', 'quit', or Ctrl-D.\n  warn(\"To exit: use 'exit', 'quit', or Ctrl-D.\", stacklevel=1)\n"
    }
   ],
   "metadata": {},
   "execution_count": 3
  },
  {
   "source": [
    "print(\"minas\")\n",
    "\n",
    "                                      "
   ],
   "cell_type": "code",
   "outputs": [
    {
     "output_type": "stream",
     "name": "stdout",
     "text": "minas\n"
    }
   ],
   "metadata": {},
   "execution_count": 4
  },
  {
   "cell_type": "code",
   "execution_count": null,
   "metadata": {},
   "outputs": [],
   "source": []
  }
 ],
 "metadata": {
  "kernelspec": {
   "display_name": "Python 3",
   "language": "python",
   "name": "python3"
  },
  "language_info": {
   "codemirror_mode": {
    "name": "ipython",
    "version": 2
   },
   "file_extension": ".py",
   "mimetype": "text/x-python",
   "name": "python",
   "nbconvert_exporter": "python",
   "pygments_lexer": "ipython2",
   "version": "3.7.5-final"
  },
  "pycharm": {
   "stem_cell": {
    "cell_type": "raw",
    "source": [],
    "metadata": {
     "collapsed": false
    }
   }
  }
 },
 "nbformat": 4,
 "nbformat_minor": 0
}